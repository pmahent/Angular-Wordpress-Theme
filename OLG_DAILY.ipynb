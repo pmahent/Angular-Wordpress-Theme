{
  "nbformat": 4,
  "nbformat_minor": 0,
  "metadata": {
    "colab": {
      "name": "OLG-DAILY",
      "provenance": [],
      "collapsed_sections": [],
      "authorship_tag": "ABX9TyPI3JOCKqyrxDJugv+E3U22",
      "include_colab_link": true
    },
    "kernelspec": {
      "name": "python3",
      "display_name": "Python 3"
    }
  },
  "cells": [
    {
      "cell_type": "markdown",
      "metadata": {
        "id": "view-in-github",
        "colab_type": "text"
      },
      "source": [
        "<a href=\"https://colab.research.google.com/github/pmahent/Angular-Wordpress-Theme/blob/master/OLG_DAILY.ipynb\" target=\"_parent\"><img src=\"https://colab.research.google.com/assets/colab-badge.svg\" alt=\"Open In Colab\"/></a>"
      ]
    },
    {
      "cell_type": "code",
      "metadata": {
        "id": "4qKCidgLOoGl",
        "colab_type": "code",
        "colab": {}
      },
      "source": [
        "# KENO\n",
        "# https://lottery.olg.ca/en-ca/winning-numbers/daily-keno/winning-numbers?startDate=2020-04-26&endDate=2020-04-28\n",
        "\n",
        "# PICK 4\n",
        "# https://lottery.olg.ca/en-ca/winning-numbers/pick-4/winning-numbers?startDate=2020-04-26&endDate=2020-04-28\n",
        "\n",
        "# PICK 3\n",
        "# https://lottery.olg.ca/en-ca/winning-numbers/pick-3/winning-numbers?startDate=2020-04-26&endDate=2020-04-28\n",
        "\n"
      ],
      "execution_count": 0,
      "outputs": []
    },
    {
      "cell_type": "code",
      "metadata": {
        "id": "vhLvPPOKSN4z",
        "colab_type": "code",
        "colab": {
          "base_uri": "https://localhost:8080/",
          "height": 34
        },
        "outputId": "43cc4c19-f3ae-4419-ea6e-f326d8cf2133"
      },
      "source": [
        "!ls\n"
      ],
      "execution_count": 1,
      "outputs": [
        {
          "output_type": "stream",
          "text": [
            "sample_data\n"
          ],
          "name": "stdout"
        }
      ]
    }
  ]
}